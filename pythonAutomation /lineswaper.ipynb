{
 "cells": [
  {
   "cell_type": "code",
   "execution_count": 56,
   "metadata": {},
   "outputs": [],
   "source": [
    "from itertools import permutations \n"
   ]
  },
  {
   "cell_type": "code",
   "execution_count": 57,
   "metadata": {},
   "outputs": [],
   "source": [
    "# file_path = \"dgemm_mine.c\"\n",
    "file_path = \"test.txt\"\n",
    "lines = [6, 7, 9]"
   ]
  },
  {
   "cell_type": "code",
   "execution_count": 58,
   "metadata": {},
   "outputs": [],
   "source": [
    "def swap_lines(file_path, line1, line2):\n",
    "    # Read all lines from the file\n",
    "    with open(file_path, 'r') as file:\n",
    "        lines = file.readlines()\n",
    "\n",
    "    # Adjust for zero-indexing\n",
    "    line1 -= 1\n",
    "    line2 -= 1\n",
    "\n",
    "    # Swap the lines\n",
    "    lines[line1], lines[line2] = lines[line2], lines[line1]\n",
    "\n",
    "    # Write the updated lines back to the file\n",
    "    with open(file_path, 'w') as file:\n",
    "        file.writelines(lines)\n",
    "\n",
    "def find_swap_pairs(list1, list2):\n",
    "    # Step 1: Map elements to their indices in both lists\n",
    "    element_to_index_list2 = {element: i for i, element in enumerate(list2)}\n",
    "    \n",
    "    # Step 2: Create the index mapping (permutation)\n",
    "    index_mapping = [element_to_index_list2[element] for element in list1]\n",
    "    \n",
    "    # Step 3: Find cycles in the permutation\n",
    "    visited = [False] * len(list1)\n",
    "    swaps = set()\n",
    "    \n",
    "    for i in range(len(list1)):\n",
    "        if not visited[i]:\n",
    "            cycle = []\n",
    "            j = i\n",
    "            while not visited[j]:\n",
    "                visited[j] = True\n",
    "                cycle.append(j)\n",
    "                j = index_mapping[j]\n",
    "            # Step 4: Generate swaps from the cycle\n",
    "            if len(cycle) > 1:\n",
    "                first_element = list1[cycle[0]]\n",
    "                for k in range(1, len(cycle)):\n",
    "                    swap_pair = frozenset({first_element, list1[cycle[k]]})\n",
    "                    swaps.add(swap_pair)\n",
    "    \n",
    "    # Convert frozensets back to sorted lists for readability\n",
    "    return [sorted(pair) for pair in swaps]\n"
   ]
  },
  {
   "cell_type": "code",
   "execution_count": 59,
   "metadata": {},
   "outputs": [
    {
     "name": "stdout",
     "output_type": "stream",
     "text": [
      "['1\\n', '2\\n', '3\\n', '4\\n', '5\\n', '6\\n', '7\\n', '8\\n', '9\\n', '10\\n', '11']\n"
     ]
    },
    {
     "ename": "KeyError",
     "evalue": "'1\\n'",
     "output_type": "error",
     "traceback": [
      "\u001b[0;31m---------------------------------------------------------------------------\u001b[0m",
      "\u001b[0;31mKeyError\u001b[0m                                  Traceback (most recent call last)",
      "Cell \u001b[0;32mIn [59], line 2\u001b[0m\n\u001b[1;32m      1\u001b[0m \u001b[38;5;28;01mfor\u001b[39;00m perm \u001b[38;5;129;01min\u001b[39;00m permutations(lines):\n\u001b[0;32m----> 2\u001b[0m     s_lis \u001b[38;5;241m=\u001b[39m \u001b[43mfind_swap_pairs\u001b[49m\u001b[43m(\u001b[49m\u001b[43mlines\u001b[49m\u001b[43m,\u001b[49m\u001b[43m \u001b[49m\u001b[43mperm\u001b[49m\u001b[43m)\u001b[49m\n\u001b[1;32m      3\u001b[0m     \u001b[38;5;28;01mfor\u001b[39;00m x \u001b[38;5;129;01min\u001b[39;00m s_lis:\n\u001b[1;32m      4\u001b[0m         swap_lines(file_path, x[\u001b[38;5;241m0\u001b[39m], x[\u001b[38;5;241m1\u001b[39m])\n",
      "Cell \u001b[0;32mIn [58], line 22\u001b[0m, in \u001b[0;36mfind_swap_pairs\u001b[0;34m(list1, list2)\u001b[0m\n\u001b[1;32m     19\u001b[0m element_to_index_list2 \u001b[38;5;241m=\u001b[39m {element: i \u001b[38;5;28;01mfor\u001b[39;00m i, element \u001b[38;5;129;01min\u001b[39;00m \u001b[38;5;28menumerate\u001b[39m(list2)}\n\u001b[1;32m     21\u001b[0m \u001b[38;5;66;03m# Step 2: Create the index mapping (permutation)\u001b[39;00m\n\u001b[0;32m---> 22\u001b[0m index_mapping \u001b[38;5;241m=\u001b[39m \u001b[43m[\u001b[49m\u001b[43melement_to_index_list2\u001b[49m\u001b[43m[\u001b[49m\u001b[43melement\u001b[49m\u001b[43m]\u001b[49m\u001b[43m \u001b[49m\u001b[38;5;28;43;01mfor\u001b[39;49;00m\u001b[43m \u001b[49m\u001b[43melement\u001b[49m\u001b[43m \u001b[49m\u001b[38;5;129;43;01min\u001b[39;49;00m\u001b[43m \u001b[49m\u001b[43mlist1\u001b[49m\u001b[43m]\u001b[49m\n\u001b[1;32m     24\u001b[0m \u001b[38;5;66;03m# Step 3: Find cycles in the permutation\u001b[39;00m\n\u001b[1;32m     25\u001b[0m visited \u001b[38;5;241m=\u001b[39m [\u001b[38;5;28;01mFalse\u001b[39;00m] \u001b[38;5;241m*\u001b[39m \u001b[38;5;28mlen\u001b[39m(list1)\n",
      "Cell \u001b[0;32mIn [58], line 22\u001b[0m, in \u001b[0;36m<listcomp>\u001b[0;34m(.0)\u001b[0m\n\u001b[1;32m     19\u001b[0m element_to_index_list2 \u001b[38;5;241m=\u001b[39m {element: i \u001b[38;5;28;01mfor\u001b[39;00m i, element \u001b[38;5;129;01min\u001b[39;00m \u001b[38;5;28menumerate\u001b[39m(list2)}\n\u001b[1;32m     21\u001b[0m \u001b[38;5;66;03m# Step 2: Create the index mapping (permutation)\u001b[39;00m\n\u001b[0;32m---> 22\u001b[0m index_mapping \u001b[38;5;241m=\u001b[39m [\u001b[43melement_to_index_list2\u001b[49m\u001b[43m[\u001b[49m\u001b[43melement\u001b[49m\u001b[43m]\u001b[49m \u001b[38;5;28;01mfor\u001b[39;00m element \u001b[38;5;129;01min\u001b[39;00m list1]\n\u001b[1;32m     24\u001b[0m \u001b[38;5;66;03m# Step 3: Find cycles in the permutation\u001b[39;00m\n\u001b[1;32m     25\u001b[0m visited \u001b[38;5;241m=\u001b[39m [\u001b[38;5;28;01mFalse\u001b[39;00m] \u001b[38;5;241m*\u001b[39m \u001b[38;5;28mlen\u001b[39m(list1)\n",
      "\u001b[0;31mKeyError\u001b[0m: '1\\n'"
     ]
    }
   ],
   "source": [
    "for perm in permutations(lines):\n",
    "    s_lis = find_swap_pairs(lines, perm)\n",
    "    for x in s_lis:\n",
    "        swap_lines(file_path, x[0], x[1])\n",
    "    with open(file_path, 'r') as file:\n",
    "        lines = file.readlines()\n",
    "        print(lines)\n",
    "    for x in s_lis:\n",
    "        swap_lines(file_path, x[0], x[1])\n",
    "\n"
   ]
  },
  {
   "cell_type": "code",
   "execution_count": null,
   "metadata": {},
   "outputs": [],
   "source": []
  }
 ],
 "metadata": {
  "kernelspec": {
   "display_name": "Python 3",
   "language": "python",
   "name": "python3"
  },
  "language_info": {
   "codemirror_mode": {
    "name": "ipython",
    "version": 3
   },
   "file_extension": ".py",
   "mimetype": "text/x-python",
   "name": "python",
   "nbconvert_exporter": "python",
   "pygments_lexer": "ipython3",
   "version": "3.11.2"
  }
 },
 "nbformat": 4,
 "nbformat_minor": 2
}
